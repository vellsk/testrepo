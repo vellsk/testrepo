{
    "cells": [
        {
            "metadata": {},
            "cell_type": "code",
            "source": "import numpy as np  # useful for many scientific computing in Python\nimport pandas as pd",
            "execution_count": 1,
            "outputs": []
        },
        {
            "metadata": {},
            "cell_type": "code",
            "source": "srvy_res=pd.read_csv(\"https://cf-courses-data.s3.us.cloud-object-storage.appdomain.cloud/IBMDeveloperSkillsNetwork-DV0101EN-SkillsNetwork/labs/FinalModule_Coursera/data/Topic_Survey_Assignment.csv\")",
            "execution_count": 12,
            "outputs": []
        },
        {
            "metadata": {},
            "cell_type": "code",
            "source": "srvy_res",
            "execution_count": 13,
            "outputs": [
                {
                    "output_type": "execute_result",
                    "execution_count": 13,
                    "data": {
                        "text/plain": "                            Very interested  Somewhat interested  \\\nBig Data (Spark / Hadoop)              1332                  729   \nData Analysis / Statistics             1688                  444   \nData Journalism                         429                 1081   \nData Visualization                     1340                  734   \nDeep Learning                          1263                  770   \nMachine Learning                       1629                  477   \n\n                            Not interested  \nBig Data (Spark / Hadoop)              127  \nData Analysis / Statistics              60  \nData Journalism                        610  \nData Visualization                     102  \nDeep Learning                          136  \nMachine Learning                        74  ",
                        "text/html": "<div>\n<style scoped>\n    .dataframe tbody tr th:only-of-type {\n        vertical-align: middle;\n    }\n\n    .dataframe tbody tr th {\n        vertical-align: top;\n    }\n\n    .dataframe thead th {\n        text-align: right;\n    }\n</style>\n<table border=\"1\" class=\"dataframe\">\n  <thead>\n    <tr style=\"text-align: right;\">\n      <th></th>\n      <th>Very interested</th>\n      <th>Somewhat interested</th>\n      <th>Not interested</th>\n    </tr>\n  </thead>\n  <tbody>\n    <tr>\n      <th>Big Data (Spark / Hadoop)</th>\n      <td>1332</td>\n      <td>729</td>\n      <td>127</td>\n    </tr>\n    <tr>\n      <th>Data Analysis / Statistics</th>\n      <td>1688</td>\n      <td>444</td>\n      <td>60</td>\n    </tr>\n    <tr>\n      <th>Data Journalism</th>\n      <td>429</td>\n      <td>1081</td>\n      <td>610</td>\n    </tr>\n    <tr>\n      <th>Data Visualization</th>\n      <td>1340</td>\n      <td>734</td>\n      <td>102</td>\n    </tr>\n    <tr>\n      <th>Deep Learning</th>\n      <td>1263</td>\n      <td>770</td>\n      <td>136</td>\n    </tr>\n    <tr>\n      <th>Machine Learning</th>\n      <td>1629</td>\n      <td>477</td>\n      <td>74</td>\n    </tr>\n  </tbody>\n</table>\n</div>"
                    },
                    "metadata": {}
                }
            ]
        },
        {
            "metadata": {},
            "cell_type": "code",
            "source": "",
            "execution_count": null,
            "outputs": []
        }
    ],
    "metadata": {
        "kernelspec": {
            "name": "python3",
            "display_name": "Python 3.7",
            "language": "python"
        },
        "language_info": {
            "name": "python",
            "version": "3.7.11",
            "mimetype": "text/x-python",
            "codemirror_mode": {
                "name": "ipython",
                "version": 3
            },
            "pygments_lexer": "ipython3",
            "nbconvert_exporter": "python",
            "file_extension": ".py"
        }
    },
    "nbformat": 4,
    "nbformat_minor": 1
}